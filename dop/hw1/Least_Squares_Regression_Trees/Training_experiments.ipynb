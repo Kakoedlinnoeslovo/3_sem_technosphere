{
 "cells": [
  {
   "cell_type": "code",
   "execution_count": 5,
   "metadata": {},
   "outputs": [],
   "source": [
    "from utils import log_out, plot_graphs, DataReader, adaboost_loss\n",
    "from carrot import Carrot\n",
    "from booster import Booster\n",
    "\n",
    "from sklearn.ensemble import GradientBoostingClassifier\n",
    "import numpy as np\n",
    "from sklearn.linear_model import LogisticRegression\n",
    "from sklearn.tree import DecisionTreeRegressor\n",
    "from sklearn.metrics import accuracy_score\n",
    "from tqdm import tqdm\n",
    "from random import shuffle\n",
    "%matplotlib inline"
   ]
  },
  {
   "cell_type": "code",
   "execution_count": 2,
   "metadata": {},
   "outputs": [
    {
     "name": "stderr",
     "output_type": "stream",
     "text": [
      " 38%|███▊      | 2717/7093 [00:00<00:00, 27161.02it/s]"
     ]
    },
    {
     "name": "stdout",
     "output_type": "stream",
     "text": [
      "Start reading data ...\n"
     ]
    },
    {
     "name": "stderr",
     "output_type": "stream",
     "text": [
      "100%|██████████| 7093/7093 [00:00<00:00, 25752.08it/s]\n",
      " 24%|██▍       | 2454/10056 [00:00<00:00, 24535.11it/s]"
     ]
    },
    {
     "name": "stdout",
     "output_type": "stream",
     "text": [
      "End reading data ...\n",
      "Normalising data ...\n",
      "Start reading data ...\n"
     ]
    },
    {
     "name": "stderr",
     "output_type": "stream",
     "text": [
      "100%|██████████| 10056/10056 [00:00<00:00, 25945.68it/s]\n"
     ]
    },
    {
     "name": "stdout",
     "output_type": "stream",
     "text": [
      "End reading data ...\n",
      "Normalising data ...\n"
     ]
    }
   ],
   "source": [
    "reader = DataReader()\n",
    "X_train, Y_train = reader.get(dtype = \"train\", ttype = \"classification\")\n",
    "X_test, Y_test = reader.get(dtype = \"test\", ttype = \"classification\")"
   ]
  },
  {
   "cell_type": "code",
   "execution_count": 6,
   "metadata": {},
   "outputs": [
    {
     "name": "stderr",
     "output_type": "stream",
     "text": [
      "Learning estimator number: 9/10; AdaboostLoss error on train dataset: 0.558763957430948; MSE error on train dataset: 0.156929817766374195"
     ]
    },
    {
     "name": "stdout",
     "output_type": "stream",
     "text": [
      "\n",
      "my AdaboostLoss: 0.5273\n"
     ]
    },
    {
     "name": "stderr",
     "output_type": "stream",
     "text": [
      "\r",
      " 11%|█         | 1/9 [00:35<04:42, 35.31s/it]"
     ]
    },
    {
     "name": "stdout",
     "output_type": "stream",
     "text": [
      "sklearn AdaboostLoss: 0.5439\n"
     ]
    },
    {
     "name": "stderr",
     "output_type": "stream",
     "text": [
      "Learning estimator number: 19/20; AdaboostLoss error on train dataset: 0.5198370071648998; MSE error on train dataset: 0.07121096877377665"
     ]
    },
    {
     "name": "stdout",
     "output_type": "stream",
     "text": [
      "\n",
      "my AdaboostLoss: 0.5308\n"
     ]
    },
    {
     "name": "stderr",
     "output_type": "stream",
     "text": [
      "\r",
      " 22%|██▏       | 2/9 [01:23<04:50, 41.51s/it]"
     ]
    },
    {
     "name": "stdout",
     "output_type": "stream",
     "text": [
      "sklearn AdaboostLoss: 0.5161\n"
     ]
    },
    {
     "name": "stderr",
     "output_type": "stream",
     "text": [
      "Learning estimator number: 29/30; AdaboostLoss error on train dataset: 0.5081358442963083; MSE error on train dataset: 0.03869457516498705"
     ]
    },
    {
     "name": "stdout",
     "output_type": "stream",
     "text": [
      "\n",
      "my AdaboostLoss: 0.5190\n"
     ]
    },
    {
     "name": "stderr",
     "output_type": "stream",
     "text": [
      "\r",
      " 33%|███▎      | 3/9 [02:11<04:22, 43.77s/it]"
     ]
    },
    {
     "name": "stdout",
     "output_type": "stream",
     "text": [
      "sklearn AdaboostLoss: 0.5176\n"
     ]
    },
    {
     "name": "stderr",
     "output_type": "stream",
     "text": [
      "Learning estimator number: 39/40; AdaboostLoss error on train dataset: 0.5038903117819885; MSE error on train dataset: 0.04939110062518598"
     ]
    },
    {
     "name": "stdout",
     "output_type": "stream",
     "text": [
      "\n",
      "my AdaboostLoss: 0.5239\n"
     ]
    },
    {
     "name": "stderr",
     "output_type": "stream",
     "text": [
      "\r",
      " 44%|████▍     | 4/9 [02:55<03:39, 43.95s/it]"
     ]
    },
    {
     "name": "stdout",
     "output_type": "stream",
     "text": [
      "sklearn AdaboostLoss: 0.5117\n"
     ]
    },
    {
     "name": "stderr",
     "output_type": "stream",
     "text": [
      "Learning estimator number: 49/50; AdaboostLoss error on train dataset: 0.5018023314314926; MSE error on train dataset: 0.034670636547247145"
     ]
    },
    {
     "name": "stdout",
     "output_type": "stream",
     "text": [
      "\n",
      "my AdaboostLoss: 0.5200\n"
     ]
    },
    {
     "name": "stderr",
     "output_type": "stream",
     "text": [
      "\r",
      " 56%|█████▌    | 5/9 [03:42<02:57, 44.41s/it]"
     ]
    },
    {
     "name": "stdout",
     "output_type": "stream",
     "text": [
      "sklearn AdaboostLoss: 0.5107\n"
     ]
    },
    {
     "name": "stderr",
     "output_type": "stream",
     "text": [
      "Learning estimator number: 59/60; AdaboostLoss error on train dataset: 0.5010483435527803; MSE error on train dataset: 0.046838805131408426"
     ]
    },
    {
     "name": "stdout",
     "output_type": "stream",
     "text": [
      "\n",
      "my AdaboostLoss: 0.5200\n"
     ]
    },
    {
     "name": "stderr",
     "output_type": "stream",
     "text": [
      "\r",
      " 67%|██████▋   | 6/9 [04:32<02:16, 45.34s/it]"
     ]
    },
    {
     "name": "stdout",
     "output_type": "stream",
     "text": [
      "sklearn AdaboostLoss: 0.5117\n"
     ]
    },
    {
     "name": "stderr",
     "output_type": "stream",
     "text": [
      "Learning estimator number: 69/70; AdaboostLoss error on train dataset: 0.5005050387248218; MSE error on train dataset: 0.07416153334514321"
     ]
    },
    {
     "name": "stdout",
     "output_type": "stream",
     "text": [
      "\n",
      "my AdaboostLoss: 0.5181\n"
     ]
    },
    {
     "name": "stderr",
     "output_type": "stream",
     "text": [
      "\r",
      " 78%|███████▊  | 7/9 [05:21<01:31, 45.89s/it]"
     ]
    },
    {
     "name": "stdout",
     "output_type": "stream",
     "text": [
      "sklearn AdaboostLoss: 0.5122\n"
     ]
    },
    {
     "name": "stderr",
     "output_type": "stream",
     "text": [
      "Learning estimator number: 79/80; AdaboostLoss error on train dataset: 0.5002270859569766; MSE error on train dataset: 0.079489308271127054"
     ]
    },
    {
     "name": "stdout",
     "output_type": "stream",
     "text": [
      "\n",
      "my AdaboostLoss: 0.5244\n"
     ]
    },
    {
     "name": "stderr",
     "output_type": "stream",
     "text": [
      "\r",
      " 89%|████████▉ | 8/9 [06:11<00:46, 46.39s/it]"
     ]
    },
    {
     "name": "stdout",
     "output_type": "stream",
     "text": [
      "sklearn AdaboostLoss: 0.5107\n"
     ]
    },
    {
     "name": "stderr",
     "output_type": "stream",
     "text": [
      "Learning estimator number: 89/90; AdaboostLoss error on train dataset: 0.5000965223323681; MSE error on train dataset: 0.061527665632389176"
     ]
    },
    {
     "name": "stdout",
     "output_type": "stream",
     "text": [
      "\n",
      "my AdaboostLoss: 0.5254\n"
     ]
    },
    {
     "name": "stderr",
     "output_type": "stream",
     "text": [
      "\r",
      "100%|██████████| 9/9 [07:03<00:00, 47.07s/it]"
     ]
    },
    {
     "name": "stdout",
     "output_type": "stream",
     "text": [
      "sklearn AdaboostLoss: 0.5117\n"
     ]
    },
    {
     "name": "stderr",
     "output_type": "stream",
     "text": [
      "\n"
     ]
    },
    {
     "data": {
      "image/png": "[encoded data removed]",
      "text/plain": [
       "<Figure size 432x288 with 1 Axes>"
      ]
     },
     "metadata": {
      "needs_background": "light"
     },
     "output_type": "display_data"
    }
   ],
   "source": [
    "losses_my = list()\n",
    "losses_sklearn = list()\n",
    "trees_num = [x * 10 for x in range(1, 10)]\n",
    "\n",
    "\n",
    "estimators_list = None\n",
    "global_leaf_numbers = None\n",
    "F = None\n",
    "node_weights = None\n",
    "b = 0.5\n",
    "\n",
    "ind_list = [i for i in range(len(X_train))]\n",
    "shuffle(ind_list)\n",
    "\n",
    "for i in tqdm(trees_num):\n",
    "    algo1 = Booster(n_estimators=i, min_samples_split=4, max_depth=3,\n",
    "                              estimators_list=estimators_list,\n",
    "                              F=F,\n",
    "                              global_leaf_numbers=global_leaf_numbers,\n",
    "                              node_weights= node_weights,\n",
    "                    b = b)\n",
    "    b*=0.5\n",
    "    estimators_list, F, global_leaf_numbers, node_weights = algo1.fit(X_train[ind_list, :],\n",
    "                                                                      Y_train[ind_list])\n",
    "\n",
    "\n",
    "\n",
    "    aloss = adaboost_loss(Y_test, algo1.predict(X_test))\n",
    "    losses_my.append(aloss)\n",
    "    print(\"\\nmy AdaboostLoss: %.4f\" % aloss)\n",
    "\n",
    "    algo = GradientBoostingClassifier(n_estimators=i,\n",
    "                                      max_depth=3,\n",
    "                                      min_samples_split=4,\n",
    "                                      loss=\"exponential\")\n",
    "    algo.fit(X_train, Y_train)\n",
    "    aloss = adaboost_loss(Y_test, algo.predict(X_test))\n",
    "    losses_sklearn.append(aloss)\n",
    "    print(\"sklearn AdaboostLoss: %.4f\" % aloss)\n",
    "\n",
    "plot_graphs(trees_num, losses_my, losses_sklearn)"
   ]
  },
  {
   "cell_type": "code",
   "execution_count": null,
   "metadata": {},
   "outputs": [],
   "source": []
  },
  {
   "cell_type": "code",
   "execution_count": null,
   "metadata": {},
   "outputs": [],
   "source": []
  }
 ],
 "metadata": {
  "kernelspec": {
   "display_name": "Python 3",
   "language": "python",
   "name": "python3"
  },
  "language_info": {
   "codemirror_mode": {
    "name": "ipython",
    "version": 3
   },
   "file_extension": ".py",
   "mimetype": "text/x-python",
   "name": "python",
   "nbconvert_exporter": "python",
   "pygments_lexer": "ipython3",
   "version": "3.6.6"
  }
 },
 "nbformat": 4,
 "nbformat_minor": 1
}
