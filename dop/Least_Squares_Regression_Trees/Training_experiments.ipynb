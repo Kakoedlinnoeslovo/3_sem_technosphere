{
 "cells": [
  {
   "cell_type": "code",
   "execution_count": 12,
   "metadata": {},
   "outputs": [],
   "source": [
    "from utils import log_out, plot_graphs, DataReader\n",
    "from carrot import Carrot\n",
    "from booster import Gradient_Boosting\n",
    "\n",
    "from sklearn.ensemble import GradientBoostingClassifier\n",
    "import numpy as np\n",
    "from sklearn.linear_model import LogisticRegression\n",
    "from sklearn.tree import DecisionTreeRegressor\n",
    "from sklearn.metrics import accuracy_score\n",
    "from tqdm import tqdm\n",
    "%matplotlib inline"
   ]
  },
  {
   "cell_type": "code",
   "execution_count": 14,
   "metadata": {},
   "outputs": [
    {
     "name": "stderr",
     "output_type": "stream",
     "text": [
      " 36%|███▌      | 2561/7093 [00:00<00:00, 25597.45it/s]"
     ]
    },
    {
     "name": "stdout",
     "output_type": "stream",
     "text": [
      "Start reading data ...\n"
     ]
    },
    {
     "name": "stderr",
     "output_type": "stream",
     "text": [
      "100%|██████████| 7093/7093 [00:00<00:00, 26034.02it/s]\n",
      " 29%|██▉       | 2954/10056 [00:00<00:00, 29531.44it/s]"
     ]
    },
    {
     "name": "stdout",
     "output_type": "stream",
     "text": [
      "End reading data ...\n",
      "Start reading data ...\n"
     ]
    },
    {
     "name": "stderr",
     "output_type": "stream",
     "text": [
      "100%|██████████| 10056/10056 [00:00<00:00, 26976.41it/s]\n"
     ]
    },
    {
     "name": "stdout",
     "output_type": "stream",
     "text": [
      "End reading data ...\n"
     ]
    }
   ],
   "source": [
    "reader = DataReader()\n",
    "X_train, Y_train = reader.get(dtype = \"train\", ttype = \"classification\")\n",
    "X_test, Y_test = reader.get(dtype = \"test\", ttype = \"classification\")"
   ]
  },
  {
   "cell_type": "code",
   "execution_count": 15,
   "metadata": {},
   "outputs": [
    {
     "name": "stderr",
     "output_type": "stream",
     "text": [
      "Learning estimator number: 1/40; Accuracy error on train dataset: 0.8805864937262089; MSE error on train dataset: 0.376709055971871/Library/Frameworks/Python.framework/Versions/3.6/lib/python3.6/site-packages/numpy/core/fromnumeric.py:2957: RuntimeWarning: Mean of empty slice.\n",
      "  out=out, **kwargs)\n",
      "/Library/Frameworks/Python.framework/Versions/3.6/lib/python3.6/site-packages/numpy/core/_methods.py:80: RuntimeWarning: invalid value encountered in double_scalars\n",
      "  ret = ret.dtype.type(ret / rcount)\n",
      "Learning estimator number: 39/40; Accuracy error on train dataset: 0.9823769913999718; MSE error on train dataset: 0.0037924631664504483"
     ]
    },
    {
     "name": "stdout",
     "output_type": "stream",
     "text": [
      "my Accuracy: 0.9308\n"
     ]
    },
    {
     "name": "stderr",
     "output_type": "stream",
     "text": [
      "\r",
      " 25%|██▌       | 1/4 [02:47<08:23, 167.97s/it]"
     ]
    },
    {
     "name": "stdout",
     "output_type": "stream",
     "text": [
      "sklearn Accuracy: 0.9548\n"
     ]
    },
    {
     "name": "stderr",
     "output_type": "stream",
     "text": [
      "Learning estimator number: 49/50; Accuracy error on train dataset: 0.9826589595375722; MSE error on train dataset: 0.0028115560024599188"
     ]
    },
    {
     "name": "stdout",
     "output_type": "stream",
     "text": [
      "my Accuracy: 0.9296\n"
     ]
    },
    {
     "name": "stderr",
     "output_type": "stream",
     "text": [
      "\r",
      " 50%|█████     | 2/4 [03:45<03:45, 112.74s/it]"
     ]
    },
    {
     "name": "stdout",
     "output_type": "stream",
     "text": [
      "sklearn Accuracy: 0.9557\n"
     ]
    },
    {
     "name": "stderr",
     "output_type": "stream",
     "text": [
      "Learning estimator number: 59/60; Accuracy error on train dataset: 0.9840688002255745; MSE error on train dataset: 0.0022019361356281062"
     ]
    },
    {
     "name": "stdout",
     "output_type": "stream",
     "text": [
      "my Accuracy: 0.9352\n"
     ]
    },
    {
     "name": "stderr",
     "output_type": "stream",
     "text": [
      "\r",
      " 75%|███████▌  | 3/4 [04:43<01:34, 94.40s/it] "
     ]
    },
    {
     "name": "stdout",
     "output_type": "stream",
     "text": [
      "sklearn Accuracy: 0.9571\n"
     ]
    },
    {
     "name": "stderr",
     "output_type": "stream",
     "text": [
      "Learning estimator number: 69/70; Accuracy error on train dataset: 0.9854786409135767; MSE error on train dataset: 0.0017612137188771349"
     ]
    },
    {
     "name": "stdout",
     "output_type": "stream",
     "text": [
      "my Accuracy: 0.9340\n"
     ]
    },
    {
     "name": "stderr",
     "output_type": "stream",
     "text": [
      "\r",
      "100%|██████████| 4/4 [05:45<00:00, 86.26s/it]"
     ]
    },
    {
     "name": "stdout",
     "output_type": "stream",
     "text": [
      "sklearn Accuracy: 0.9592\n"
     ]
    },
    {
     "name": "stderr",
     "output_type": "stream",
     "text": [
      "\n"
     ]
    },
    {
     "data": {
      "image/png": "[encoded data removed]",
      "text/plain": [
       "<Figure size 432x288 with 1 Axes>"
      ]
     },
     "metadata": {
      "needs_background": "light"
     },
     "output_type": "display_data"
    }
   ],
   "source": [
    "losses_my = list()\n",
    "losses_sklearn = list()\n",
    "trees_num = [x*10 for x in range(4,8)]\n",
    "\n",
    "#accuracy on train\n",
    "estimators_list = None\n",
    "global_leaf_numbers = None\n",
    "F = None\n",
    "\n",
    "for i in tqdm(trees_num):\n",
    "    algo1 = Gradient_Boosting(n_estimators=i, min_samples_split=4, max_depth=3,\n",
    "                              estimators_list = estimators_list ,\n",
    "                              F = F,\n",
    "                              global_leaf_numbers = global_leaf_numbers)\n",
    "    estimators_list, F, global_leaf_numbers  = algo1.fit(X_train, Y_train)\n",
    "    acs = accuracy_score(Y_test, algo1.predict(X_test))\n",
    "    losses_my.append(acs)\n",
    "    print(\"my Accuracy: %.4f\" % acs)\n",
    "\n",
    "    algo = GradientBoostingClassifier(n_estimators=i,\n",
    "                                     max_depth=3,\n",
    "                                     min_samples_split=4, \n",
    "                                     loss=\"exponential\")\n",
    "    algo.fit(X_train, Y_train)\n",
    "    acs = accuracy_score(Y_test, algo.predict(X_test))\n",
    "    losses_sklearn.append(acs)\n",
    "    print(\"sklearn Accuracy: %.4f\" % acs)\n",
    "\n",
    "plot_graphs(trees_num, losses_my, losses_sklearn)"
   ]
  },
  {
   "cell_type": "code",
   "execution_count": null,
   "metadata": {},
   "outputs": [],
   "source": []
  }
 ],
 "metadata": {
  "kernelspec": {
   "display_name": "Python 3",
   "language": "python",
   "name": "python3"
  },
  "language_info": {
   "codemirror_mode": {
    "name": "ipython",
    "version": 3
   },
   "file_extension": ".py",
   "mimetype": "text/x-python",
   "name": "python",
   "nbconvert_exporter": "python",
   "pygments_lexer": "ipython3",
   "version": "3.6.6"
  }
 },
 "nbformat": 4,
 "nbformat_minor": 1
}
